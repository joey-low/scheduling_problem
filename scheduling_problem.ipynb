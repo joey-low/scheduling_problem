{
  "nbformat": 4,
  "nbformat_minor": 0,
  "metadata": {
    "colab": {
      "provenance": [],
      "authorship_tag": "ABX9TyPIuxZSJLaLbylnLcvWMUVv",
      "include_colab_link": true
    },
    "kernelspec": {
      "name": "python3",
      "display_name": "Python 3"
    },
    "language_info": {
      "name": "python"
    }
  },
  "cells": [
    {
      "cell_type": "markdown",
      "metadata": {
        "id": "view-in-github",
        "colab_type": "text"
      },
      "source": [
        "<a href=\"https://colab.research.google.com/github/joey-low/scheduling_problem/blob/main/scheduling_problem.ipynb\" target=\"_parent\"><img src=\"https://colab.research.google.com/assets/colab-badge.svg\" alt=\"Open In Colab\"/></a>"
      ]
    },
    {
      "cell_type": "code",
      "execution_count": 13,
      "metadata": {
        "id": "SVuzYm2IYRTz"
      },
      "outputs": [],
      "source": [
        "import random\n",
        "import numpy as np\n",
        "import matplotlib.pyplot as plt\n",
        "import scipy.stats as stats\n",
        "import itertools"
      ]
    },
    {
      "cell_type": "code",
      "source": [
        "random.seed(123)\n",
        "array=[]\n",
        "sample_size=500\n",
        "for n in range(sample_size):\n",
        "    r=100\n",
        "    arr=np.zeros(r,dtype=int)\n",
        "    select=random.sample(range(r),6)\n",
        "    select.sort()\n",
        "    for s in select:\n",
        "        arr[s]=1\n",
        "    array.append(arr)\n",
        "\n",
        "x=np.arange(r)\n",
        "print('Subject:',x)\n",
        "freq=np.sum(array,axis=0)\n",
        "print('Frequency:',freq)\n",
        "prop=freq/sample_size\n",
        "print('Proportion:',prop)\n",
        "\n",
        "fifthpct=np.quantile(prop,0.05)\n",
        "print('5th percentile:',fifthpct)\n",
        "\n",
        "## Return those subjects that can be clashed (a.k.a. prop <= 0.042)\n",
        "subjects = x[prop <= 0.042]\n",
        "p0 = prop[prop <= 0.042]\n",
        "print(\"Subjects with p<=0.042: \",subjects)\n",
        "print(\"Respective proportion: \",p0)\n",
        "print(\"Total count: \", len(p0))"
      ],
      "metadata": {
        "colab": {
          "base_uri": "https://localhost:8080/"
        },
        "id": "FdgcQjYuYegQ",
        "outputId": "ad345b3b-9f35-4987-c0ff-3eeac12fbee4"
      },
      "execution_count": 14,
      "outputs": [
        {
          "output_type": "stream",
          "name": "stdout",
          "text": [
            "Subject: [ 0  1  2  3  4  5  6  7  8  9 10 11 12 13 14 15 16 17 18 19 20 21 22 23\n",
            " 24 25 26 27 28 29 30 31 32 33 34 35 36 37 38 39 40 41 42 43 44 45 46 47\n",
            " 48 49 50 51 52 53 54 55 56 57 58 59 60 61 62 63 64 65 66 67 68 69 70 71\n",
            " 72 73 74 75 76 77 78 79 80 81 82 83 84 85 86 87 88 89 90 91 92 93 94 95\n",
            " 96 97 98 99]\n",
            "Frequency: [29 23 30 23 27 34 35 27 37 39 28 31 29 29 24 26 36 41 26 23 30 30 26 33\n",
            " 35 28 26 24 32 33 36 34 20 31 34 21 32 29 24 30 23 43 30 41 26 30 29 39\n",
            " 34 23 31 20 22 38 29 33 29 26 30 32 32 33 21 39 29 26 36 28 45 21 36 25\n",
            " 26 23 29 20 26 23 37 26 31 36 31 32 31 48 33 18 26 36 23 28 31 29 30 27\n",
            " 29 35 36 36]\n",
            "Subject popularity: [0.058 0.046 0.06  0.046 0.054 0.068 0.07  0.054 0.074 0.078 0.056 0.062\n",
            " 0.058 0.058 0.048 0.052 0.072 0.082 0.052 0.046 0.06  0.06  0.052 0.066\n",
            " 0.07  0.056 0.052 0.048 0.064 0.066 0.072 0.068 0.04  0.062 0.068 0.042\n",
            " 0.064 0.058 0.048 0.06  0.046 0.086 0.06  0.082 0.052 0.06  0.058 0.078\n",
            " 0.068 0.046 0.062 0.04  0.044 0.076 0.058 0.066 0.058 0.052 0.06  0.064\n",
            " 0.064 0.066 0.042 0.078 0.058 0.052 0.072 0.056 0.09  0.042 0.072 0.05\n",
            " 0.052 0.046 0.058 0.04  0.052 0.046 0.074 0.052 0.062 0.072 0.062 0.064\n",
            " 0.062 0.096 0.066 0.036 0.052 0.072 0.046 0.056 0.062 0.058 0.06  0.054\n",
            " 0.058 0.07  0.072 0.072]\n",
            "5th percentile: 0.042\n",
            "Subjects with p<=0.042:  [32 35 51 62 69 75 87]\n",
            "Respective proportion:  [0.04  0.042 0.04  0.042 0.042 0.04  0.036]\n",
            "Total count:  7\n"
          ]
        }
      ]
    },
    {
      "cell_type": "code",
      "source": [
        "#argument in order x(no. of subjects which can clash out of no. of required subjects),n(no. of required subjects),p(independent probability of subject which can clash)\n",
        "stats.binom.cdf(2,6,7/100)"
      ],
      "metadata": {
        "colab": {
          "base_uri": "https://localhost:8080/"
        },
        "id": "t4VnD_MbYnc2",
        "outputId": "b769e5c8-74f8-496a-e73c-05bbe81f086d"
      },
      "execution_count": 15,
      "outputs": [
        {
          "output_type": "execute_result",
          "data": {
            "text/plain": [
              "0.99416112129"
            ]
          },
          "metadata": {},
          "execution_count": 15
        }
      ]
    },
    {
      "cell_type": "code",
      "source": [
        "def subjects_prod(arr):\n",
        "  result = 1\n",
        "  for x in arr:\n",
        "    result *= p0[subjects==x][0] #filter p0 list then extract element\n",
        "  return result"
      ],
      "metadata": {
        "id": "5rW8XekdYpom"
      },
      "execution_count": 16,
      "outputs": []
    },
    {
      "cell_type": "code",
      "source": [
        "best_result = 1\n",
        "best_combination = []\n",
        "for x in itertools.combinations(subjects,4):\n",
        "  product_x = subjects_prod(x)\n",
        "  product_z = 0\n",
        "  z = subjects \n",
        "  for i in x:\n",
        "    z = z[z != i]\n",
        "  product_z = subjects_prod(z)\n",
        "  if(product_x + product_z < best_result):\n",
        "    best_combination = [x,z]\n",
        "    best_result = product_x + product_z\n",
        "\n",
        "print(best_result)\n",
        "print(best_combination)"
      ],
      "metadata": {
        "colab": {
          "base_uri": "https://localhost:8080/"
        },
        "id": "aWClGAzWYtA9",
        "outputId": "79637a66-2c64-4e2d-e064-1cf3c83c43ec"
      },
      "execution_count": 17,
      "outputs": [
        {
          "output_type": "stream",
          "name": "stdout",
          "text": [
            "6.056352e-05\n",
            "[(32, 35, 62, 69), array([51, 75, 87])]\n"
          ]
        }
      ]
    }
  ]
}
